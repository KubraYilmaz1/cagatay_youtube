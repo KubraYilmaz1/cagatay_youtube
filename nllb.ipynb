{
  "nbformat": 4,
  "nbformat_minor": 0,
  "metadata": {
    "colab": {
      "name": "nllb.ipynb",
      "provenance": [],
      "collapsed_sections": []
    },
    "kernelspec": {
      "name": "python3",
      "display_name": "Python 3"
    },
    "language_info": {
      "name": "python"
    }
  },
  "cells": [
    {
      "cell_type": "code",
      "execution_count": null,
      "metadata": {
        "id": "fcbcCdqWoO-X",
        "colab": {
          "base_uri": "https://localhost:8080/"
        },
        "outputId": "0a4bea0c-ea53-4af7-8c20-d83b035083f3"
      },
      "outputs": [
        {
          "output_type": "stream",
          "name": "stdout",
          "text": [
            "Looking in indexes: https://pypi.org/simple, https://us-python.pkg.dev/colab-wheels/public/simple/\n",
            "Requirement already satisfied: pytchat in /usr/local/lib/python3.7/dist-packages (0.5.5)\n",
            "Requirement already satisfied: httpx[http2] in /usr/local/lib/python3.7/dist-packages (from pytchat) (0.23.0)\n",
            "Requirement already satisfied: rfc3986[idna2008]<2,>=1.3 in /usr/local/lib/python3.7/dist-packages (from httpx[http2]->pytchat) (1.5.0)\n",
            "Requirement already satisfied: httpcore<0.16.0,>=0.15.0 in /usr/local/lib/python3.7/dist-packages (from httpx[http2]->pytchat) (0.15.0)\n",
            "Requirement already satisfied: certifi in /usr/local/lib/python3.7/dist-packages (from httpx[http2]->pytchat) (2022.6.15)\n",
            "Requirement already satisfied: sniffio in /usr/local/lib/python3.7/dist-packages (from httpx[http2]->pytchat) (1.2.0)\n",
            "Requirement already satisfied: h2<5,>=3 in /usr/local/lib/python3.7/dist-packages (from httpx[http2]->pytchat) (4.1.0)\n",
            "Requirement already satisfied: hyperframe<7,>=6.0 in /usr/local/lib/python3.7/dist-packages (from h2<5,>=3->httpx[http2]->pytchat) (6.0.1)\n",
            "Requirement already satisfied: hpack<5,>=4.0 in /usr/local/lib/python3.7/dist-packages (from h2<5,>=3->httpx[http2]->pytchat) (4.0.0)\n",
            "Requirement already satisfied: anyio==3.* in /usr/local/lib/python3.7/dist-packages (from httpcore<0.16.0,>=0.15.0->httpx[http2]->pytchat) (3.6.1)\n",
            "Requirement already satisfied: h11<0.13,>=0.11 in /usr/local/lib/python3.7/dist-packages (from httpcore<0.16.0,>=0.15.0->httpx[http2]->pytchat) (0.12.0)\n",
            "Requirement already satisfied: typing-extensions in /usr/local/lib/python3.7/dist-packages (from anyio==3.*->httpcore<0.16.0,>=0.15.0->httpx[http2]->pytchat) (4.1.1)\n",
            "Requirement already satisfied: idna>=2.8 in /usr/local/lib/python3.7/dist-packages (from anyio==3.*->httpcore<0.16.0,>=0.15.0->httpx[http2]->pytchat) (2.10)\n",
            "Looking in indexes: https://pypi.org/simple, https://us-python.pkg.dev/colab-wheels/public/simple/\n",
            "Requirement already satisfied: transformers in /usr/local/lib/python3.7/dist-packages (4.21.2)\n",
            "Requirement already satisfied: pyyaml>=5.1 in /usr/local/lib/python3.7/dist-packages (from transformers) (6.0)\n",
            "Requirement already satisfied: tokenizers!=0.11.3,<0.13,>=0.11.1 in /usr/local/lib/python3.7/dist-packages (from transformers) (0.12.1)\n",
            "Requirement already satisfied: tqdm>=4.27 in /usr/local/lib/python3.7/dist-packages (from transformers) (4.64.0)\n",
            "Requirement already satisfied: packaging>=20.0 in /usr/local/lib/python3.7/dist-packages (from transformers) (21.3)\n",
            "Requirement already satisfied: filelock in /usr/local/lib/python3.7/dist-packages (from transformers) (3.8.0)\n",
            "Requirement already satisfied: importlib-metadata in /usr/local/lib/python3.7/dist-packages (from transformers) (4.12.0)\n",
            "Requirement already satisfied: numpy>=1.17 in /usr/local/lib/python3.7/dist-packages (from transformers) (1.21.6)\n",
            "Requirement already satisfied: huggingface-hub<1.0,>=0.1.0 in /usr/local/lib/python3.7/dist-packages (from transformers) (0.9.1)\n",
            "Requirement already satisfied: regex!=2019.12.17 in /usr/local/lib/python3.7/dist-packages (from transformers) (2022.6.2)\n",
            "Requirement already satisfied: requests in /usr/local/lib/python3.7/dist-packages (from transformers) (2.23.0)\n",
            "Requirement already satisfied: typing-extensions>=3.7.4.3 in /usr/local/lib/python3.7/dist-packages (from huggingface-hub<1.0,>=0.1.0->transformers) (4.1.1)\n",
            "Requirement already satisfied: pyparsing!=3.0.5,>=2.0.2 in /usr/local/lib/python3.7/dist-packages (from packaging>=20.0->transformers) (3.0.9)\n",
            "Requirement already satisfied: zipp>=0.5 in /usr/local/lib/python3.7/dist-packages (from importlib-metadata->transformers) (3.8.1)\n",
            "Requirement already satisfied: idna<3,>=2.5 in /usr/local/lib/python3.7/dist-packages (from requests->transformers) (2.10)\n",
            "Requirement already satisfied: urllib3!=1.25.0,!=1.25.1,<1.26,>=1.21.1 in /usr/local/lib/python3.7/dist-packages (from requests->transformers) (1.24.3)\n",
            "Requirement already satisfied: chardet<4,>=3.0.2 in /usr/local/lib/python3.7/dist-packages (from requests->transformers) (3.0.4)\n",
            "Requirement already satisfied: certifi>=2017.4.17 in /usr/local/lib/python3.7/dist-packages (from requests->transformers) (2022.6.15)\n"
          ]
        }
      ],
      "source": [
        "!pip install pytchat \n",
        "!pip install transformers"
      ]
    },
    {
      "cell_type": "code",
      "source": [
        "from transformers import AutoModelForSeq2SeqLM, AutoTokenizer\n",
        "\n",
        "tokenizer = AutoTokenizer.from_pretrained(\"facebook/nllb-200-distilled-600M\", src_lang=\"tur_Latn\")\n",
        "model = AutoModelForSeq2SeqLM.from_pretrained(\"facebook/nllb-200-distilled-600M\")"
      ],
      "metadata": {
        "id": "yMgXjs-Q2YcK"
      },
      "execution_count": null,
      "outputs": []
    },
    {
      "cell_type": "code",
      "source": [
        "# TODO emojileri textten çıkart"
      ],
      "metadata": {
        "id": "BosVqTDv8hev"
      },
      "execution_count": null,
      "outputs": []
    },
    {
      "cell_type": "code",
      "source": [
        "def cevir(mesaj: str):\n",
        "\n",
        "  inputs = tokenizer(mesaj, return_tensors=\"pt\")\n",
        "\n",
        "  translated_tokens = model.generate(\n",
        "      **inputs, forced_bos_token_id=tokenizer.lang_code_to_id[\"eng_Latn\"], max_length=200\n",
        "  )\n",
        "  ceviri = tokenizer.batch_decode(translated_tokens, skip_special_tokens=True)[0]\n",
        "\n",
        "  return ceviri"
      ],
      "metadata": {
        "id": "GUen9VrR2ivK"
      },
      "execution_count": null,
      "outputs": []
    },
    {
      "cell_type": "code",
      "source": [
        "import pytchat\n",
        "canli_yayin_id = \"Gwe84fwS1_w\"\n",
        "# burasi kısmen pytchat dokudan \n",
        "chat = pytchat.create(video_id=canli_yayin_id)\n",
        "while chat.is_alive():\n",
        "    for c in chat.get().sync_items():\n",
        "        print(\"#######Basla#######\")\n",
        "        print(f\"{c.datetime} [{c.author.name}]- {c.message}\")\n",
        "\n",
        "        if len(c.message) > 100: # reasonable \n",
        "            print(\"Mesaj cok uzun!\")\n",
        "            continue \n",
        "\n",
        "        ceviri = cevir(c.message)\n",
        "\n",
        "        print(\"Ceviri:\", ceviri)\n",
        "\n",
        "        print(\"#######Bitis#######\")"
      ],
      "metadata": {
        "colab": {
          "base_uri": "https://localhost:8080/"
        },
        "id": "JP2rNUeusBfh",
        "outputId": "85c41795-3c1b-4823-b72f-d9dee6472e71"
      },
      "execution_count": null,
      "outputs": [
        {
          "output_type": "stream",
          "name": "stdout",
          "text": [
            "#######Basla#######\n",
            "2022-08-28 11:11:45 [çağatay odabaşı]- Yeniden test\n",
            "Ceviri: Re-test\n",
            "#######Bitis#######\n",
            "#######Basla#######\n",
            "2022-08-28 11:12:10 [justahumann]- Test için örnekler gönderiliyor …%89\n",
            "Ceviri: Sending samples for testing... 89%\n",
            "#######Bitis#######\n",
            "#######Basla#######\n",
            "2022-08-28 11:12:45 [çağatay odabaşı]- justahumann girdiler anlamında yardım için teşekkür ederim :slightly_smiling_face:\n",
            "Ceviri: Thanks for the help with justahumann entries:\n",
            "#######Bitis#######\n",
            "#######Basla#######\n",
            "2022-08-28 11:14:22 [justahumann]- Ne demek abi kolay gelsin tam olarak amacını anlamadım bu programla ama benim de bir bil müh öğrencisi olarak çok fazla bilgiye el pratğine ihtiyacım var. Yardımcı olayım dedim hem :)\n",
            "Mesaj cok uzun!\n",
            "#######Basla#######\n",
            "2022-08-28 11:15:06 [justahumann]-  Abi büyük harf ile küçük harfin kapladığı alan aynı sayılıyor değil mi (A,a) gibi\n",
            "Ceviri: So the big letter and the small letter are the same thing, right?\n",
            "#######Bitis#######\n",
            "#######Basla#######\n",
            "2022-08-28 11:15:36 [SkyLand TV]- yazdıklarımız program tarafından sesli okunsa güzel olurdu :)\n",
            "Ceviri: It would be nice if the program could read what we wrote.\n",
            "#######Bitis#######\n",
            "#######Basla#######\n",
            "2022-08-28 11:15:44 [justahumann]- Olmak ya da olmamak, işte bütün mesele budur.\n",
            "Ceviri: To be or not to be, that's the whole point.\n",
            "#######Bitis#######\n",
            "#######Basla#######\n",
            "2022-08-28 11:16:18 [cankat]- türküm doğruyum çalışkanım\n",
            "Ceviri: I'm right, my worker.\n",
            "#######Bitis#######\n",
            "#######Basla#######\n",
            "2022-08-28 11:16:41 [Rona]- Selamlar, bu program düzgün çalışıyor mu?\n",
            "Ceviri: Hi, is this program working properly?\n",
            "#######Bitis#######\n",
            "#######Basla#######\n",
            "2022-08-28 11:16:48 [CanKURT HD]- CanKurt Technology iyi testler diler.\n",
            "Ceviri: CanKurt Technology wants good tests.\n",
            "#######Bitis#######\n",
            "#######Basla#######\n",
            "2022-08-28 11:16:53 [çağatay odabaşı]- Arkadaşlar program test amaçlıdır. \n",
            "Ceviri: Friends, the program is for testing purposes.\n",
            "#######Bitis#######\n",
            "#######Basla#######\n",
            "2022-08-28 11:17:03 [SkyLand TV]- Jarvis What is weather\n",
            "Ceviri: Jarvis What is the weather\n",
            "#######Bitis#######\n",
            "#######Basla#######\n",
            "2022-08-28 11:17:05 [justahumann]- So you claim that you are capable of translating Turkish to English simultaneously, i doubt that since you are just a simple machine. \n",
            "Mesaj cok uzun!\n",
            "#######Basla#######\n",
            "2022-08-28 11:17:12 [çağatay odabaşı]- Kesinlikle ciddi bir çeviride işe yaramaz. \n",
            "Ceviri: It's definitely not useful in a serious translation.\n",
            "#######Bitis#######\n",
            "#######Basla#######\n",
            "2022-08-28 11:17:23 [cankat]- onu fark ettik abi\n",
            "Ceviri: We noticed him, brother.\n",
            "#######Bitis#######\n",
            "#######Basla#######\n",
            "2022-08-28 11:17:24 [çağatay odabaşı]- Birazdan kodu da belirteceğim açıklamada. \n",
            "Ceviri: I'll give you the code in the description.\n",
            "#######Bitis#######\n",
            "#######Basla#######\n",
            "2022-08-28 11:17:36 [çağatay odabaşı]- :grinning_face:\n",
            "Ceviri: :grinning_face:\n",
            "#######Bitis#######\n",
            "#######Basla#######\n",
            "2022-08-28 11:17:44 [justahumann]- So you claim that you are a machine\n",
            "Ceviri: So you claim that you are a machine\n",
            "#######Bitis#######\n",
            "#######Basla#######\n",
            "2022-08-28 11:17:52 [çağatay odabaşı]- Facebook NLLB 600m distilled modelini test ediyorum. \n",
            "Ceviri: I'm testing the Facebook NLLB 600m distilled model.\n",
            "#######Bitis#######\n",
            "#######Basla#######\n",
            "2022-08-28 11:18:28 [cankat]- amerikalıyım\n",
            "Ceviri: I'm from America.\n",
            "#######Bitis#######\n",
            "#######Basla#######\n",
            "2022-08-28 11:18:30 [justahumann]- Gayet keyifli bir iş yapıyosun ağabey, devam. Yalnız dilciler bunu beğenmeyecek :)\n",
            "Ceviri: You're doing a very enjoyable job, bro, go on.\n",
            "#######Bitis#######\n",
            "#######Basla#######\n",
            "2022-08-28 11:18:41 [SkyLand TV]- yapay zekaya öğretebilir miyiz yeni bir dil veri tabanına bir algoritma yazılırsa\n",
            "Ceviri: Can we teach AI if we write an algorithm into a new language database?\n",
            "#######Bitis#######\n",
            "#######Basla#######\n",
            "2022-08-28 11:18:53 [cankat]- türküm\n",
            "Ceviri: my turkey\n",
            "#######Bitis#######\n",
            "#######Basla#######\n",
            "2022-08-28 11:19:31 [cankat]- isveçliyim\n",
            "Ceviri: I'm Swedish.\n",
            "#######Bitis#######\n",
            "#######Basla#######\n",
            "2022-08-28 11:19:39 [çağatay odabaşı]- Arkdaşlar bu modelin amacı çok fazla veri olmayan dilleri de kapsamak. Türkçe'de böyle bir sorun yok. O yüzden normal modellerden biraz daha az performanslı olması normal. \n",
            "Mesaj cok uzun!\n",
            "#######Basla#######\n",
            "2022-08-28 11:19:40 [justahumann]- Can we train a artifical intelligence ortaçağda bir kasabada insan olarak yaşamayı\n",
            "Ceviri: Can we train an artificial intelligence to live as a human in a medieval town\n",
            "#######Bitis#######\n",
            "#######Basla#######\n",
            "2022-08-28 11:19:58 [cankat]- türkiyeliyim\n",
            "Ceviri: I'm from Turkey.\n",
            "#######Bitis#######\n",
            "#######Basla#######\n",
            "2022-08-28 11:20:00 [fastn]- my turkey\n",
            "Ceviri: My turkey\n",
            "#######Bitis#######\n",
            "#######Basla#######\n",
            "2022-08-28 11:20:30 [SkyLand TV]- my job is life\n",
            "Ceviri: My job is life\n",
            "#######Bitis#######\n",
            "#######Basla#######\n",
            "2022-08-28 11:20:33 [cankat]- hollandalı\n",
            "Ceviri: Dutch\n",
            "#######Bitis#######\n"
          ]
        }
      ]
    },
    {
      "cell_type": "code",
      "source": [],
      "metadata": {
        "id": "UjNpUuBsrmBc"
      },
      "execution_count": null,
      "outputs": []
    }
  ]
}
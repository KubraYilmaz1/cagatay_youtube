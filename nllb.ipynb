{
  "nbformat": 4,
  "nbformat_minor": 0,
  "metadata": {
    "colab": {
      "name": "nllb.ipynb",
      "provenance": [],
      "collapsed_sections": []
    },
    "kernelspec": {
      "name": "python3",
      "display_name": "Python 3"
    },
    "language_info": {
      "name": "python"
    }
  },
  "cells": [
    {
      "cell_type": "code",
      "execution_count": null,
      "metadata": {
        "id": "fcbcCdqWoO-X"
      },
      "outputs": [],
      "source": [
        "!pip install pytchat \n",
        "!pip install transformers"
      ]
    },
    {
      "cell_type": "code",
      "source": [
        "from transformers import AutoModelForSeq2SeqLM, AutoTokenizer\n",
        "\n",
        "tokenizer = AutoTokenizer.from_pretrained(\"facebook/nllb-200-distilled-600M\", src_lang=\"tur_Latn\")\n",
        "model = AutoModelForSeq2SeqLM.from_pretrained(\"facebook/nllb-200-distilled-600M\")"
      ],
      "metadata": {
        "id": "yMgXjs-Q2YcK"
      },
      "execution_count": null,
      "outputs": []
    },
    {
      "cell_type": "code",
      "source": [
        "# TODO emojileri textten çıkart"
      ],
      "metadata": {
        "id": "BosVqTDv8hev"
      },
      "execution_count": null,
      "outputs": []
    },
    {
      "cell_type": "code",
      "source": [
        "def cevir(mesaj: str):\n",
        "\n",
        "  inputs = tokenizer(mesaj, return_tensors=\"pt\")\n",
        "\n",
        "  translated_tokens = model.generate(\n",
        "      **inputs, forced_bos_token_id=tokenizer.lang_code_to_id[\"eng_Latn\"], max_length=200\n",
        "  )\n",
        "  ceviri = tokenizer.batch_decode(translated_tokens, skip_special_tokens=True)[0]\n",
        "\n",
        "  return ceviri"
      ],
      "metadata": {
        "id": "GUen9VrR2ivK"
      },
      "execution_count": null,
      "outputs": []
    },
    {
      "cell_type": "code",
      "source": [
        "import pytchat\n",
        "canli_yayin_id = \"Gwe84fwS1_w\"\n",
        "# burasi kısmen pytchat dokudan \n",
        "chat = pytchat.create(video_id=canli_yayin_id)\n",
        "while chat.is_alive():\n",
        "    for c in chat.get().sync_items():\n",
        "        print(\"#######Basla#######\")\n",
        "        print(f\"{c.datetime} [{c.author.name}]- {c.message}\")\n",
        "\n",
        "        if len(c.message) > 100: # reasonable \n",
        "            print(\"Mesaj cok uzun!\")\n",
        "            continue \n",
        "\n",
        "        ceviri = cevir(c.message)\n",
        "\n",
        "        print(\"Ceviri:\", ceviri)\n",
        "\n",
        "        print(\"#######Bitis#######\")"
      ],
      "metadata": {
        "id": "JP2rNUeusBfh"
      },
      "execution_count": null,
      "outputs": []
    },
    {
      "cell_type": "code",
      "source": [],
      "metadata": {
        "id": "UjNpUuBsrmBc"
      },
      "execution_count": null,
      "outputs": []
    }
  ]
}
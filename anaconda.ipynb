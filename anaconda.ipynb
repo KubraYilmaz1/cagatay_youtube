{
  "nbformat": 4,
  "nbformat_minor": 0,
  "metadata": {
    "colab": {
      "name": "anaconda.ipynb",
      "provenance": [],
      "collapsed_sections": []
    },
    "kernelspec": {
      "name": "python3",
      "display_name": "Python 3"
    },
    "language_info": {
      "name": "python"
    }
  },
  "cells": [
    {
      "cell_type": "code",
      "execution_count": null,
      "metadata": {
        "id": "P_PWFLxsyZT9",
        "colab": {
          "base_uri": "https://localhost:8080/"
        },
        "outputId": "5df84afb-d278-49b5-86dd-6b61b2085430"
      },
      "outputs": [
        {
          "output_type": "stream",
          "name": "stdout",
          "text": [
            "✨🍰✨ Everything looks OK!\n"
          ]
        }
      ],
      "source": [
        "!pip install -q condacolab\n",
        "import condacolab\n",
        "condacolab.install()"
      ]
    },
    {
      "cell_type": "markdown",
      "source": [
        "**Conda yüklendi mi diye bakalım**"
      ],
      "metadata": {
        "id": "iYyHphcszgQo"
      }
    },
    {
      "cell_type": "code",
      "source": [
        "\n",
        "\n",
        "!conda --version"
      ],
      "metadata": {
        "id": "CIjYOkuWzZzk",
        "colab": {
          "base_uri": "https://localhost:8080/"
        },
        "outputId": "6ef39cb8-a625-49f0-803a-7ad65e40cc41"
      },
      "execution_count": null,
      "outputs": [
        {
          "output_type": "stream",
          "name": "stdout",
          "text": [
            "conda 4.9.2\n"
          ]
        }
      ]
    },
    {
      "cell_type": "markdown",
      "source": [
        "**Conda'da environmentlarını listeleyelim**"
      ],
      "metadata": {
        "id": "1ERrrpRTzwTp"
      }
    },
    {
      "cell_type": "code",
      "source": [
        "!conda env list"
      ],
      "metadata": {
        "id": "KvWG9jWuzeBI",
        "colab": {
          "base_uri": "https://localhost:8080/"
        },
        "outputId": "18b2f75a-6ca6-4a7c-a352-18d4bf3b60a1"
      },
      "execution_count": null,
      "outputs": [
        {
          "output_type": "stream",
          "name": "stdout",
          "text": [
            "# conda environments:\n",
            "#\n",
            "base                  *  /usr/local\n",
            "\n"
          ]
        }
      ]
    },
    {
      "cell_type": "markdown",
      "source": [
        "**Yeni bir environment oluşturalım**"
      ],
      "metadata": {
        "id": "Mrdn3mY10K5g"
      }
    },
    {
      "cell_type": "code",
      "source": [
        "!conda create --name robotikci python=3.8"
      ],
      "metadata": {
        "colab": {
          "base_uri": "https://localhost:8080/"
        },
        "id": "uNV5kYLH0Q2l",
        "outputId": "d51d6f25-945e-4cc2-ecfd-13913c839332",
        "collapsed": true
      },
      "execution_count": null,
      "outputs": [
        {
          "output_type": "stream",
          "name": "stdout",
          "text": [
            "Collecting package metadata (current_repodata.json): - \b\b\\ \b\b| \b\b/ \b\b- \b\b\\ \b\b| \b\b/ \b\b- \b\b\\ \b\b| \b\b/ \b\b- \b\b\\ \b\b| \b\b/ \b\b- \b\b\\ \b\b| \b\b/ \b\b- \b\b\\ \b\b| \b\b/ \b\b- \b\b\\ \b\b| \b\b/ \b\b- \b\b\\ \b\b| \b\b/ \b\b- \b\b\\ \b\b| \b\b/ \b\b- \b\b\\ \b\b| \b\b/ \b\b- \b\b\\ \b\b| \b\b/ \b\b- \b\b\\ \b\b| \b\b/ \b\b- \b\b\\ \b\b| \b\b/ \b\b- \b\b\\ \b\b| \b\b/ \b\b- \b\b\\ \b\b| \b\b/ \b\b- \b\b\\ \b\b| \b\b/ \b\b- \b\b\\ \b\b| \b\b/ \b\b- \b\b\\ \b\b| \b\b/ \b\b- \b\b\\ \b\b| \b\b/ \b\b- \b\b\\ \b\b| \b\b/ \b\b- \b\b\\ \b\b| \b\b/ \b\b- \b\b\\ \b\b| \b\b/ \b\b- \b\b\\ \b\b| \b\b/ \b\b- \b\b\\ \b\b| \b\b/ \b\b- \b\b\\ \b\b| \b\b/ \b\b- \b\b\\ \b\b| \b\bdone\n",
            "Solving environment: - \b\b\\ \b\b| \b\bdone\n",
            "\n",
            "\n",
            "==> WARNING: A newer version of conda exists. <==\n",
            "  current version: 4.9.2\n",
            "  latest version: 4.12.0\n",
            "\n",
            "Please update conda by running\n",
            "\n",
            "    $ conda update -n base conda\n",
            "\n",
            "\n",
            "\n",
            "## Package Plan ##\n",
            "\n",
            "  environment location: /usr/local/envs/robotikci\n",
            "\n",
            "  added / updated specs:\n",
            "    - python=3.8\n",
            "\n",
            "\n",
            "The following packages will be downloaded:\n",
            "\n",
            "    package                    |            build\n",
            "    ---------------------------|-----------------\n",
            "    _openmp_mutex-4.5          |            2_gnu          23 KB  conda-forge\n",
            "    ca-certificates-2021.10.8  |       ha878542_0         139 KB  conda-forge\n",
            "    ld_impl_linux-64-2.36.1    |       hea4e1c9_2         667 KB  conda-forge\n",
            "    libffi-3.4.2               |       h7f98852_5          57 KB  conda-forge\n",
            "    libgcc-ng-12.1.0           |      h8d9b700_16         940 KB  conda-forge\n",
            "    libgomp-12.1.0             |      h8d9b700_16         459 KB  conda-forge\n",
            "    libnsl-2.0.0               |       h7f98852_0          31 KB  conda-forge\n",
            "    libuuid-2.32.1             |    h7f98852_1000          28 KB  conda-forge\n",
            "    libzlib-1.2.11             |    h166bdaf_1014          60 KB  conda-forge\n",
            "    ncurses-6.3                |       h27087fc_1        1002 KB  conda-forge\n",
            "    openssl-3.0.3              |       h166bdaf_0         2.9 MB  conda-forge\n",
            "    pip-22.1                   |     pyhd8ed1ab_0         1.6 MB  conda-forge\n",
            "    python-3.8.13              |ha86cf86_0_cpython        25.2 MB  conda-forge\n",
            "    python_abi-3.8             |           2_cp38           4 KB  conda-forge\n",
            "    readline-8.1               |       h46c0cb4_0         295 KB  conda-forge\n",
            "    setuptools-62.2.0          |   py38h578d9bd_0         1.2 MB  conda-forge\n",
            "    sqlite-3.38.5              |       h4ff8645_0         1.5 MB  conda-forge\n",
            "    tk-8.6.12                  |       h27826a3_0         3.3 MB  conda-forge\n",
            "    wheel-0.37.1               |     pyhd8ed1ab_0          31 KB  conda-forge\n",
            "    zlib-1.2.11                |    h166bdaf_1014          88 KB  conda-forge\n",
            "    ------------------------------------------------------------\n",
            "                                           Total:        39.4 MB\n",
            "\n",
            "The following NEW packages will be INSTALLED:\n",
            "\n",
            "  _libgcc_mutex      conda-forge/linux-64::_libgcc_mutex-0.1-conda_forge\n",
            "  _openmp_mutex      conda-forge/linux-64::_openmp_mutex-4.5-2_gnu\n",
            "  bzip2              conda-forge/linux-64::bzip2-1.0.8-h7f98852_4\n",
            "  ca-certificates    conda-forge/linux-64::ca-certificates-2021.10.8-ha878542_0\n",
            "  ld_impl_linux-64   conda-forge/linux-64::ld_impl_linux-64-2.36.1-hea4e1c9_2\n",
            "  libffi             conda-forge/linux-64::libffi-3.4.2-h7f98852_5\n",
            "  libgcc-ng          conda-forge/linux-64::libgcc-ng-12.1.0-h8d9b700_16\n",
            "  libgomp            conda-forge/linux-64::libgomp-12.1.0-h8d9b700_16\n",
            "  libnsl             conda-forge/linux-64::libnsl-2.0.0-h7f98852_0\n",
            "  libuuid            conda-forge/linux-64::libuuid-2.32.1-h7f98852_1000\n",
            "  libzlib            conda-forge/linux-64::libzlib-1.2.11-h166bdaf_1014\n",
            "  ncurses            conda-forge/linux-64::ncurses-6.3-h27087fc_1\n",
            "  openssl            conda-forge/linux-64::openssl-3.0.3-h166bdaf_0\n",
            "  pip                conda-forge/noarch::pip-22.1-pyhd8ed1ab_0\n",
            "  python             conda-forge/linux-64::python-3.8.13-ha86cf86_0_cpython\n",
            "  python_abi         conda-forge/linux-64::python_abi-3.8-2_cp38\n",
            "  readline           conda-forge/linux-64::readline-8.1-h46c0cb4_0\n",
            "  setuptools         conda-forge/linux-64::setuptools-62.2.0-py38h578d9bd_0\n",
            "  sqlite             conda-forge/linux-64::sqlite-3.38.5-h4ff8645_0\n",
            "  tk                 conda-forge/linux-64::tk-8.6.12-h27826a3_0\n",
            "  wheel              conda-forge/noarch::wheel-0.37.1-pyhd8ed1ab_0\n",
            "  xz                 conda-forge/linux-64::xz-5.2.5-h516909a_1\n",
            "  zlib               conda-forge/linux-64::zlib-1.2.11-h166bdaf_1014\n",
            "\n",
            "\n",
            "\n",
            "Downloading and Extracting Packages\n",
            "python_abi-3.8       | 4 KB      | : 100% 1.0/1 [00:00<00:00,  9.32it/s]\n",
            "sqlite-3.38.5        | 1.5 MB    | : 100% 1.0/1 [00:00<00:00,  2.78it/s]\n",
            "setuptools-62.2.0    | 1.2 MB    | : 100% 1.0/1 [00:00<00:00,  2.23it/s]\n",
            "wheel-0.37.1         | 31 KB     | : 100% 1.0/1 [00:00<00:00, 20.02it/s]\n",
            "libuuid-2.32.1       | 28 KB     | : 100% 1.0/1 [00:00<00:00, 20.92it/s]\n",
            "_openmp_mutex-4.5    | 23 KB     | : 100% 1.0/1 [00:00<00:00, 18.86it/s]\n",
            "tk-8.6.12            | 3.3 MB    | : 100% 1.0/1 [00:00<00:00,  1.25it/s]\n",
            "libffi-3.4.2         | 57 KB     | : 100% 1.0/1 [00:00<00:00, 19.01it/s]\n",
            "python-3.8.13        | 25.2 MB   | : 100% 1.0/1 [00:05<00:00,  5.31s/it]               \n",
            "libgcc-ng-12.1.0     | 940 KB    | : 100% 1.0/1 [00:00<00:00,  3.08it/s]\n",
            "openssl-3.0.3        | 2.9 MB    | : 100% 1.0/1 [00:00<00:00,  1.43it/s]\n",
            "readline-8.1         | 295 KB    | : 100% 1.0/1 [00:00<00:00, 10.19it/s]\n",
            "libgomp-12.1.0       | 459 KB    | : 100% 1.0/1 [00:00<00:00,  5.78it/s]\n",
            "ca-certificates-2021 | 139 KB    | : 100% 1.0/1 [00:00<00:00, 16.05it/s]\n",
            "libnsl-2.0.0         | 31 KB     | : 100% 1.0/1 [00:00<00:00, 18.40it/s]\n",
            "pip-22.1             | 1.6 MB    | : 100% 1.0/1 [00:00<00:00,  2.02it/s]\n",
            "ncurses-6.3          | 1002 KB   | : 100% 1.0/1 [00:00<00:00,  1.73it/s]\n",
            "ld_impl_linux-64-2.3 | 667 KB    | : 100% 1.0/1 [00:00<00:00,  4.85it/s]\n",
            "libzlib-1.2.11       | 60 KB     | : 100% 1.0/1 [00:00<00:00, 21.88it/s]\n",
            "zlib-1.2.11          | 88 KB     | : 100% 1.0/1 [00:00<00:00, 18.19it/s]\n",
            "Preparing transaction: - \b\b\\ \b\b| \b\b/ \b\bdone\n",
            "Verifying transaction: \\ \b\b| \b\b/ \b\b- \b\b\\ \b\b| \b\b/ \b\b- \b\b\\ \b\b| \b\b/ \b\b- \b\b\\ \b\b| \b\b/ \b\b- \b\b\\ \b\b| \b\b/ \b\b- \b\b\\ \b\b| \b\bdone\n",
            "Executing transaction: - \b\b\\ \b\b| \b\b/ \b\b- \b\b\\ \b\b| \b\b/ \b\b- \b\b\\ \b\b| \b\b/ \b\b- \b\b\\ \b\b| \b\b/ \b\b- \b\b\\ \b\b| \b\b/ \b\b- \b\b\\ \b\b| \b\b/ \b\b- \b\b\\ \b\b| \b\bdone\n",
            "#\n",
            "# To activate this environment, use\n",
            "#\n",
            "#     $ conda activate robotikci\n",
            "#\n",
            "# To deactivate an active environment, use\n",
            "#\n",
            "#     $ conda deactivate\n",
            "\n"
          ]
        }
      ]
    },
    {
      "cell_type": "markdown",
      "source": [
        "**Oluşturduğumuz ortama geçelim**"
      ],
      "metadata": {
        "id": "0uowg8x3Rr-T"
      }
    },
    {
      "cell_type": "code",
      "source": [
        "!conda activate robotikci"
      ],
      "metadata": {
        "id": "vp52SB5FRo0t",
        "colab": {
          "base_uri": "https://localhost:8080/"
        },
        "outputId": "58355d69-0bf7-4022-f173-de4bbbb5dd1f"
      },
      "execution_count": null,
      "outputs": [
        {
          "output_type": "stream",
          "name": "stdout",
          "text": [
            "\n",
            "CommandNotFoundError: Your shell has not been properly configured to use 'conda activate'.\n",
            "To initialize your shell, run\n",
            "\n",
            "    $ conda init <SHELL_NAME>\n",
            "\n",
            "Currently supported shells are:\n",
            "  - bash\n",
            "  - fish\n",
            "  - tcsh\n",
            "  - xonsh\n",
            "  - zsh\n",
            "  - powershell\n",
            "\n",
            "See 'conda init --help' for more information and options.\n",
            "\n",
            "IMPORTANT: You may need to close and restart your shell after running 'conda init'.\n",
            "\n",
            "\n"
          ]
        }
      ]
    },
    {
      "cell_type": "markdown",
      "source": [
        "**Oluşturduğumuz ortama geçelim**"
      ],
      "metadata": {
        "id": "IWEBEEuT0abD"
      }
    },
    {
      "cell_type": "code",
      "source": [
        "%%bash\n",
        "source activate robotikci\n",
        "\n",
        "conda env list"
      ],
      "metadata": {
        "id": "33ctejks0g5S",
        "colab": {
          "base_uri": "https://localhost:8080/"
        },
        "outputId": "4da36686-08c2-4ea4-f959-0600ec96c3a3"
      },
      "execution_count": null,
      "outputs": [
        {
          "output_type": "stream",
          "name": "stdout",
          "text": [
            "# conda environments:\n",
            "#\n",
            "base                     /usr/local\n",
            "robotikci             *  /usr/local/envs/robotikci\n",
            "\n"
          ]
        }
      ]
    },
    {
      "cell_type": "markdown",
      "source": [
        "**Bir paket yükleyelim**"
      ],
      "metadata": {
        "id": "2G2fUzyRnSl6"
      }
    },
    {
      "cell_type": "code",
      "source": [
        "%%bash\n",
        "source activate robotikci\n",
        "\n",
        "conda install -c anaconda numpy -y"
      ],
      "metadata": {
        "id": "iB8WWN8-2dZp",
        "colab": {
          "base_uri": "https://localhost:8080/"
        },
        "outputId": "844803d1-7574-42e7-a80d-c56e19f27ccc"
      },
      "execution_count": null,
      "outputs": [
        {
          "output_type": "stream",
          "name": "stdout",
          "text": [
            "Collecting package metadata (current_repodata.json): ...working... done\n",
            "Solving environment: ...working... done\n",
            "\n",
            "## Package Plan ##\n",
            "\n",
            "  environment location: /usr/local/envs/robotikci\n",
            "\n",
            "  added / updated specs:\n",
            "    - numpy\n",
            "\n",
            "\n",
            "The following packages will be downloaded:\n",
            "\n",
            "    package                    |            build\n",
            "    ---------------------------|-----------------\n",
            "    blas-1.0                   |              mkl           6 KB  anaconda\n",
            "    ca-certificates-2022.4.26  |       h06a4308_0         132 KB  anaconda\n",
            "    intel-openmp-2021.4.0      |    h06a4308_3561         8.8 MB  anaconda\n",
            "    libstdcxx-ng-9.3.0         |      hd4cf53a_17         4.0 MB  anaconda\n",
            "    mkl-2021.4.0               |     h06a4308_640       219.1 MB  anaconda\n",
            "    mkl-service-2.4.0          |   py38h7f8727e_0          62 KB  anaconda\n",
            "    mkl_fft-1.3.1              |   py38hd3c417c_0         200 KB  anaconda\n",
            "    mkl_random-1.2.2           |   py38h51133e4_0         341 KB  anaconda\n",
            "    numpy-1.21.5               |   py38he7a7128_2          10 KB  anaconda\n",
            "    numpy-base-1.21.5          |   py38hf524024_2         6.1 MB  anaconda\n",
            "    six-1.16.0                 |     pyhd3eb1b0_1          19 KB  anaconda\n",
            "    ------------------------------------------------------------\n",
            "                                           Total:       238.8 MB\n",
            "\n",
            "The following NEW packages will be INSTALLED:\n",
            "\n",
            "  blas               anaconda/linux-64::blas-1.0-mkl\n",
            "  intel-openmp       anaconda/linux-64::intel-openmp-2021.4.0-h06a4308_3561\n",
            "  libstdcxx-ng       anaconda/linux-64::libstdcxx-ng-9.3.0-hd4cf53a_17\n",
            "  mkl                anaconda/linux-64::mkl-2021.4.0-h06a4308_640\n",
            "  mkl-service        anaconda/linux-64::mkl-service-2.4.0-py38h7f8727e_0\n",
            "  mkl_fft            anaconda/linux-64::mkl_fft-1.3.1-py38hd3c417c_0\n",
            "  mkl_random         anaconda/linux-64::mkl_random-1.2.2-py38h51133e4_0\n",
            "  numpy              anaconda/linux-64::numpy-1.21.5-py38he7a7128_2\n",
            "  numpy-base         anaconda/linux-64::numpy-base-1.21.5-py38hf524024_2\n",
            "  six                anaconda/noarch::six-1.16.0-pyhd3eb1b0_1\n",
            "\n",
            "The following packages will be UPDATED:\n",
            "\n",
            "  ca-certificates    conda-forge::ca-certificates-2021.10.~ --> anaconda::ca-certificates-2022.4.26-h06a4308_0\n",
            "\n",
            "\n",
            "\n",
            "Downloading and Extracting Packages\n",
            "\rmkl-service-2.4.0    | 62 KB     |            |   0% \rmkl-service-2.4.0    | 62 KB     | ##5        |  26% \rmkl-service-2.4.0    | 62 KB     | ########## | 100% \n",
            "\rintel-openmp-2021.4. | 8.8 MB    |            |   0% \rintel-openmp-2021.4. | 8.8 MB    | #3         |  13% \rintel-openmp-2021.4. | 8.8 MB    | ########## | 100% \rintel-openmp-2021.4. | 8.8 MB    | ########## | 100% \n",
            "\rnumpy-base-1.21.5    | 6.1 MB    |            |   0% \rnumpy-base-1.21.5    | 6.1 MB    | #2         |  13% \rnumpy-base-1.21.5    | 6.1 MB    | ######3    |  64% \rnumpy-base-1.21.5    | 6.1 MB    | ########## | 100% \rnumpy-base-1.21.5    | 6.1 MB    | ########## | 100% \n",
            "\rmkl_random-1.2.2     | 341 KB    |            |   0% \rmkl_random-1.2.2     | 341 KB    | ########## | 100% \rmkl_random-1.2.2     | 341 KB    | ########## | 100% \n",
            "\rmkl_fft-1.3.1        | 200 KB    |            |   0% \rmkl_fft-1.3.1        | 200 KB    | ########## | 100% \rmkl_fft-1.3.1        | 200 KB    | ########## | 100% \n",
            "\rnumpy-1.21.5         | 10 KB     |            |   0% \rnumpy-1.21.5         | 10 KB     | ########## | 100% \n",
            "\rmkl-2021.4.0         | 219.1 MB  |            |   0% \rmkl-2021.4.0         | 219.1 MB  | 2          |   2% \rmkl-2021.4.0         | 219.1 MB  | 6          |   7% \rmkl-2021.4.0         | 219.1 MB  | #          |  11% \rmkl-2021.4.0         | 219.1 MB  | #4         |  15% \rmkl-2021.4.0         | 219.1 MB  | #7         |  18% \rmkl-2021.4.0         | 219.1 MB  | ##         |  20% \rmkl-2021.4.0         | 219.1 MB  | ##3        |  23% \rmkl-2021.4.0         | 219.1 MB  | ##6        |  27% \rmkl-2021.4.0         | 219.1 MB  | ###        |  31% \rmkl-2021.4.0         | 219.1 MB  | ###4       |  35% \rmkl-2021.4.0         | 219.1 MB  | ###8       |  39% \rmkl-2021.4.0         | 219.1 MB  | ####2      |  43% \rmkl-2021.4.0         | 219.1 MB  | ####6      |  47% \rmkl-2021.4.0         | 219.1 MB  | #####      |  51% \rmkl-2021.4.0         | 219.1 MB  | #####4     |  55% \rmkl-2021.4.0         | 219.1 MB  | #####9     |  59% \rmkl-2021.4.0         | 219.1 MB  | ######3    |  63% \rmkl-2021.4.0         | 219.1 MB  | ######7    |  68% \rmkl-2021.4.0         | 219.1 MB  | #######1   |  72% \rmkl-2021.4.0         | 219.1 MB  | #######6   |  77% \rmkl-2021.4.0         | 219.1 MB  | ########   |  81% \rmkl-2021.4.0         | 219.1 MB  | ########4  |  84% \rmkl-2021.4.0         | 219.1 MB  | ########7  |  88% \rmkl-2021.4.0         | 219.1 MB  | #########1 |  91% \rmkl-2021.4.0         | 219.1 MB  | #########4 |  95% \rmkl-2021.4.0         | 219.1 MB  | #########8 |  99% \rmkl-2021.4.0         | 219.1 MB  | ########## | 100% \n",
            "\rca-certificates-2022 | 132 KB    |            |   0% \rca-certificates-2022 | 132 KB    | ########## | 100% \n",
            "\rsix-1.16.0           | 19 KB     |            |   0% \rsix-1.16.0           | 19 KB     | ########## | 100% \n",
            "\rlibstdcxx-ng-9.3.0   | 4.0 MB    |            |   0% \rlibstdcxx-ng-9.3.0   | 4.0 MB    | ########## | 100% \rlibstdcxx-ng-9.3.0   | 4.0 MB    | ########## | 100% \n",
            "\rblas-1.0             | 6 KB      |            |   0% \rblas-1.0             | 6 KB      | ########## | 100% \n",
            "Preparing transaction: ...working... done\n",
            "Verifying transaction: ...working... done\n",
            "Executing transaction: ...working... done\n"
          ]
        },
        {
          "output_type": "stream",
          "name": "stderr",
          "text": [
            "\n",
            "\n",
            "==> WARNING: A newer version of conda exists. <==\n",
            "  current version: 4.9.2\n",
            "  latest version: 4.12.0\n",
            "\n",
            "Please update conda by running\n",
            "\n",
            "    $ conda update -n base conda\n",
            "\n",
            "\n"
          ]
        }
      ]
    },
    {
      "cell_type": "markdown",
      "source": [
        "**Paketi yükleyebilmiş miyiz?**"
      ],
      "metadata": {
        "id": "En55inZWwiko"
      }
    },
    {
      "cell_type": "code",
      "source": [
        "%%bash\n",
        "source activate robotikci\n",
        "\n",
        "python\n",
        "\n",
        "import numpy as np\n",
        "\n",
        "print(np.__version__)"
      ],
      "metadata": {
        "id": "PTy64xROwg-7",
        "colab": {
          "base_uri": "https://localhost:8080/"
        },
        "outputId": "a5612d2d-e904-434f-87fa-1bb9e480cc40"
      },
      "execution_count": null,
      "outputs": [
        {
          "output_type": "stream",
          "name": "stdout",
          "text": [
            "1.21.5\n"
          ]
        }
      ]
    },
    {
      "cell_type": "markdown",
      "source": [
        "**Hangi kütüphaneleri yüklediğimizi kaydedelim.**"
      ],
      "metadata": {
        "id": "E9k077_dnY1C"
      }
    },
    {
      "cell_type": "code",
      "source": [
        "%%bash\n",
        "\n",
        "conda env export --name robotikci > kutuphaneler.yml"
      ],
      "metadata": {
        "id": "sUdJCjfG1LW8"
      },
      "execution_count": null,
      "outputs": []
    },
    {
      "cell_type": "markdown",
      "source": [
        "**Şu kutuphanelere bir bakalım.**"
      ],
      "metadata": {
        "id": "G8BK3PD3ymdQ"
      }
    },
    {
      "cell_type": "code",
      "source": [
        "%%bash \n",
        "\n",
        "cat kutuphaneler.yml"
      ],
      "metadata": {
        "id": "gAKKMM8fyij4",
        "colab": {
          "base_uri": "https://localhost:8080/"
        },
        "outputId": "72063d7e-a4f2-48f9-8cb8-f6eeda367ae7"
      },
      "execution_count": null,
      "outputs": [
        {
          "output_type": "stream",
          "name": "stdout",
          "text": [
            "name: robotikci\n",
            "channels:\n",
            "  - anaconda\n",
            "  - conda-forge\n",
            "dependencies:\n",
            "  - _libgcc_mutex=0.1=conda_forge\n",
            "  - _openmp_mutex=4.5=2_gnu\n",
            "  - blas=1.0=mkl\n",
            "  - bzip2=1.0.8=h7f98852_4\n",
            "  - ca-certificates=2022.4.26=h06a4308_0\n",
            "  - intel-openmp=2021.4.0=h06a4308_3561\n",
            "  - ld_impl_linux-64=2.36.1=hea4e1c9_2\n",
            "  - libffi=3.4.2=h7f98852_5\n",
            "  - libgcc-ng=12.1.0=h8d9b700_16\n",
            "  - libgomp=12.1.0=h8d9b700_16\n",
            "  - libnsl=2.0.0=h7f98852_0\n",
            "  - libstdcxx-ng=9.3.0=hd4cf53a_17\n",
            "  - libuuid=2.32.1=h7f98852_1000\n",
            "  - libzlib=1.2.11=h166bdaf_1014\n",
            "  - mkl=2021.4.0=h06a4308_640\n",
            "  - mkl-service=2.4.0=py38h7f8727e_0\n",
            "  - mkl_fft=1.3.1=py38hd3c417c_0\n",
            "  - mkl_random=1.2.2=py38h51133e4_0\n",
            "  - ncurses=6.3=h27087fc_1\n",
            "  - numpy=1.21.5=py38he7a7128_2\n",
            "  - numpy-base=1.21.5=py38hf524024_2\n",
            "  - openssl=3.0.3=h166bdaf_0\n",
            "  - pip=22.1=pyhd8ed1ab_0\n",
            "  - python=3.8.13=ha86cf86_0_cpython\n",
            "  - python_abi=3.8=2_cp38\n",
            "  - readline=8.1=h46c0cb4_0\n",
            "  - setuptools=62.2.0=py38h578d9bd_0\n",
            "  - six=1.16.0=pyhd3eb1b0_1\n",
            "  - sqlite=3.38.5=h4ff8645_0\n",
            "  - tk=8.6.12=h27826a3_0\n",
            "  - wheel=0.37.1=pyhd8ed1ab_0\n",
            "  - xz=5.2.5=h516909a_1\n",
            "  - zlib=1.2.11=h166bdaf_1014\n",
            "prefix: /usr/local/envs/robotikci\n"
          ]
        }
      ]
    },
    {
      "cell_type": "markdown",
      "source": [
        "**Kadettiğimiz kütüphanelerle yeni bir ortam oluşturalım.**"
      ],
      "metadata": {
        "id": "GwXMWswFycK5"
      }
    },
    {
      "cell_type": "code",
      "source": [
        "%%bash\n",
        "\n",
        "conda env create --name yapayzekaci --file kutuphaneler.yml"
      ],
      "metadata": {
        "id": "MVHk-GCq1cUY",
        "colab": {
          "base_uri": "https://localhost:8080/"
        },
        "outputId": "13d8283e-b1f2-471a-95ba-d063d1cb3b69"
      },
      "execution_count": null,
      "outputs": [
        {
          "output_type": "stream",
          "name": "stdout",
          "text": [
            "Collecting package metadata (repodata.json): ...working... done\n",
            "Solving environment: ...working... done\n",
            "Preparing transaction: ...working... done\n",
            "Verifying transaction: ...working... done\n",
            "Executing transaction: ...working... done\n",
            "#\n",
            "# To activate this environment, use\n",
            "#\n",
            "#     $ conda activate yapayzekaci\n",
            "#\n",
            "# To deactivate an active environment, use\n",
            "#\n",
            "#     $ conda deactivate\n",
            "\n"
          ]
        },
        {
          "output_type": "stream",
          "name": "stderr",
          "text": [
            "\n",
            "\n",
            "==> WARNING: A newer version of conda exists. <==\n",
            "  current version: 4.9.2\n",
            "  latest version: 4.12.0\n",
            "\n",
            "Please update conda by running\n",
            "\n",
            "    $ conda update -n base conda\n",
            "\n",
            "\n"
          ]
        }
      ]
    },
    {
      "cell_type": "markdown",
      "source": [
        "**Yapabildik mi?**"
      ],
      "metadata": {
        "id": "WFF5aaHrzInC"
      }
    },
    {
      "cell_type": "code",
      "source": [
        "%%bash\n",
        "source activate yapayzekaci\n",
        "\n",
        "python\n",
        "\n",
        "import numpy as np\n",
        "print(np.__version__)"
      ],
      "metadata": {
        "id": "MNRxOt0izQGn",
        "colab": {
          "base_uri": "https://localhost:8080/"
        },
        "outputId": "2507d9ce-3f68-400e-bed8-918580e526d6"
      },
      "execution_count": null,
      "outputs": [
        {
          "output_type": "stream",
          "name": "stdout",
          "text": [
            "1.21.5\n"
          ]
        }
      ]
    }
  ]
}
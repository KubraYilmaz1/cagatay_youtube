{
  "nbformat": 4,
  "nbformat_minor": 0,
  "metadata": {
    "colab": {
      "name": "sansa_yapay_zeka.ipynb",
      "provenance": [],
      "collapsed_sections": []
    },
    "kernelspec": {
      "name": "python3",
      "display_name": "Python 3"
    }
  },
  "cells": [
    {
      "cell_type": "code",
      "metadata": {
        "id": "yrlzpzZOUWbN"
      },
      "source": [
        "import numpy as np "
      ],
      "execution_count": 1,
      "outputs": []
    },
    {
      "cell_type": "code",
      "metadata": {
        "id": "N5sXnIbLU4TB"
      },
      "source": [
        "nokta_0 = np.array([0, 0])\n",
        "nokta_1 = np.array([1, 1])\n",
        "nokta_2 = np.array([5, 5])\n",
        "nokta_3 = np.array([4, 5])"
      ],
      "execution_count": 2,
      "outputs": []
    },
    {
      "cell_type": "code",
      "metadata": {
        "id": "FTRygCrXcGqo"
      },
      "source": [
        "siniflandirma = [1, 1, 0, 0]"
      ],
      "execution_count": 3,
      "outputs": []
    },
    {
      "cell_type": "code",
      "metadata": {
        "id": "LmU-Owz5VGqY"
      },
      "source": [
        "import matplotlib.pyplot as plt"
      ],
      "execution_count": 4,
      "outputs": []
    },
    {
      "cell_type": "code",
      "metadata": {
        "colab": {
          "base_uri": "https://localhost:8080/",
          "height": 269
        },
        "id": "2gxb5u4jVnNx",
        "outputId": "d2c7a125-73f1-403a-aabc-9d6b9e4f3371"
      },
      "source": [
        "plt.plot(nokta_0[0], nokta_0[1], 'r*')\n",
        "plt.plot(nokta_1[0], nokta_1[1], 'r*')\n",
        "plt.plot(nokta_2[0], nokta_2[1], 'bo')\n",
        "plt.plot(nokta_3[0], nokta_3[1], 'bo')\n",
        "\n",
        "plt.axis([-2, 6, -2, 6])\n",
        "plt.show()"
      ],
      "execution_count": null,
      "outputs": [
        {
          "output_type": "display_data",
          "data": {
            "image/png": "[encoded data removed]",
            "text/plain": [
              "<Figure size 432x288 with 1 Axes>"
            ]
          },
          "metadata": {
            "tags": [],
            "needs_background": "light"
          }
        }
      ]
    },
    {
      "cell_type": "code",
      "metadata": {
        "id": "aKkfxT9fV1I3"
      },
      "source": [
        "import random \n",
        "x = np.linspace(-10, 10)"
      ],
      "execution_count": 5,
      "outputs": []
    },
    {
      "cell_type": "code",
      "metadata": {
        "id": "yO3FtpoDcOR4"
      },
      "source": [
        "cizgisel_yapay_zeka = lambda a, b, c, x, y : a*x + b*y + c"
      ],
      "execution_count": 6,
      "outputs": []
    },
    {
      "cell_type": "code",
      "metadata": {
        "id": "CsG-e3YXZVHP"
      },
      "source": [
        "def ogren():\n",
        "  return (random.uniform(-1, 1), random.uniform(-1, 1), random.uniform(0, 6))"
      ],
      "execution_count": 8,
      "outputs": []
    },
    {
      "cell_type": "code",
      "metadata": {
        "colab": {
          "base_uri": "https://localhost:8080/",
          "height": 892
        },
        "id": "oMo0pWDjYGhf",
        "outputId": "1ad827d4-d9e3-4fe3-cdbe-f03fe796a15f"
      },
      "source": [
        "import time \n",
        "\n",
        "while True: \n",
        "  a, b, c = ogren()\n",
        "\n",
        "  y = -(a*x + c)/b\n",
        "\n",
        "  plt.plot(x, y, 'r-')\n",
        "\n",
        "  plt.plot(nokta_0[0], nokta_0[1], 'r*')\n",
        "  plt.plot(nokta_1[0], nokta_1[1], 'r*')\n",
        "  plt.plot(nokta_2[0], nokta_2[1], 'bo')\n",
        "  plt.plot(nokta_3[0], nokta_3[1], 'bo')\n",
        "  plt.axis([-2, 6, -2, 6])\n",
        "\n",
        "  plt.show()\n",
        "\n",
        "\n",
        "  sinif_0 = 1 if cizgisel_yapay_zeka(a, b, c, nokta_0[0], nokta_0[1]) > 0 else 0\n",
        "  sinif_1 = 1 if cizgisel_yapay_zeka(a, b, c, nokta_1[0], nokta_1[1]) > 0 else 0\n",
        "  sinif_2 = 1 if cizgisel_yapay_zeka(a, b, c, nokta_2[0], nokta_2[1]) > 0 else 0\n",
        "  sinif_3 = 1 if cizgisel_yapay_zeka(a, b, c, nokta_3[0], nokta_3[1]) > 0 else 0\n",
        "\n",
        "  if np.array_equal([sinif_0, sinif_1, sinif_2, sinif_3], siniflandirma):\n",
        "    \n",
        "    print(\"Bulduk, şansımız yaver gitti.\")\n",
        "\n",
        "    break\n",
        "\n",
        "  time.sleep(1)"
      ],
      "execution_count": 12,
      "outputs": [
        {
          "output_type": "display_data",
          "data": {
            "image/png": "[encoded data removed]",
            "text/plain": [
              "<Figure size 432x288 with 1 Axes>"
            ]
          },
          "metadata": {
            "tags": [],
            "needs_background": "light"
          }
        },
        {
          "output_type": "stream",
          "text": [
            "0.7422852954355514\n",
            "3.419000587446654\n"
          ],
          "name": "stdout"
        },
        {
          "output_type": "display_data",
          "data": {
            "image/png": "[encoded data removed]",
            "text/plain": [
              "<Figure size 432x288 with 1 Axes>"
            ]
          },
          "metadata": {
            "tags": [],
            "needs_background": "light"
          }
        },
        {
          "output_type": "stream",
          "text": [
            "0.3758546536525782\n",
            "1.3482384124604443\n"
          ],
          "name": "stdout"
        },
        {
          "output_type": "display_data",
          "data": {
            "image/png": "[encoded data removed]",
            "text/plain": [
              "<Figure size 432x288 with 1 Axes>"
            ]
          },
          "metadata": {
            "tags": [],
            "needs_background": "light"
          }
        },
        {
          "output_type": "stream",
          "text": [
            "5.0338678728090525\n",
            "-0.7195211767773717\n",
            "Bulduk, şansımız yaver gitti.\n"
          ],
          "name": "stdout"
        }
      ]
    },
    {
      "cell_type": "code",
      "metadata": {
        "id": "fB3xQVONaa7L"
      },
      "source": [
        ""
      ],
      "execution_count": null,
      "outputs": []
    }
  ]
}